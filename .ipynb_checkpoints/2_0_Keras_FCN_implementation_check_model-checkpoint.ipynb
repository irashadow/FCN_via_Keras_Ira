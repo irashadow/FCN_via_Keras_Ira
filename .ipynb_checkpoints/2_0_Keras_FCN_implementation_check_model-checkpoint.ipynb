{
 "cells": [
  {
   "cell_type": "code",
   "execution_count": 1,
   "metadata": {
    "collapsed": false
   },
   "outputs": [
    {
     "name": "stderr",
     "output_type": "stream",
     "text": [
      "/home/irashadow/.pyenv/versions/miniconda-3.9.1/lib/python2.7/site-packages/theano/sandbox/cuda/__init__.py:541: UserWarning: Theano flag device=gpu* (old gpu back-end) only support floatX=float32. You have floatX=float64. Use the new gpu back-end with device=cuda* for that value of floatX.\n",
      "  warnings.warn(msg)\n",
      "Using gpu device 0: Tesla K80 (CNMeM is disabled, cuDNN 4007)\n"
     ]
    }
   ],
   "source": [
    "import theano\n",
    "from theano.sandbox import cuda\n",
    "theano.sandbox.cuda.use(\"gpu0\")"
   ]
  },
  {
   "cell_type": "code",
   "execution_count": 91,
   "metadata": {
    "collapsed": false
   },
   "outputs": [],
   "source": [
    "%matplotlib inline\n",
    "\n",
    "import model; reload(model)\n",
    "from model import FullyConvolutionalNetwork\n",
    "\n",
    "from preprocess import *\n",
    "\n",
    "import h5py\n",
    "\n",
    "from keras.optimizers import Adam\n",
    "from keras import backend as K"
   ]
  },
  {
   "cell_type": "code",
   "execution_count": 92,
   "metadata": {
    "collapsed": false
   },
   "outputs": [],
   "source": [
    "img_size = 224\n",
    "nb_class = 21\n",
    "path_to_train = 'dataset'\n",
    "path_to_target = 'dataset'\n",
    "path_to_txt = '/home/irashadow/python_workspace/FCN_via_keras/train0.txt'\n",
    "\n",
    "#Keras parameters\n",
    "weight = \"\"\n",
    "epoch = 20\n",
    "batchsize = 1\n",
    "lr = 1e-3\n",
    "\n"
   ]
  },
  {
   "cell_type": "code",
   "execution_count": 93,
   "metadata": {
    "collapsed": false
   },
   "outputs": [
    {
     "name": "stdout",
     "output_type": "stream",
     "text": [
      "5\n"
     ]
    }
   ],
   "source": [
    "with open(path_to_txt,\"r\") as f:\n",
    "    ls = f.readlines()\n",
    "names = [l.rstrip('\\n') for l in ls]\n",
    "nb_data = len(names)\n",
    "print nb_data"
   ]
  },
  {
   "cell_type": "markdown",
   "metadata": {},
   "source": [
    "# FCN Model"
   ]
  },
  {
   "cell_type": "code",
   "execution_count": null,
   "metadata": {
    "collapsed": true
   },
   "outputs": [],
   "source": [
    "from keras.layers import merge, Lambda, Convolution2D, Deconvolution2D, MaxPooling2D, Input, Reshape, Permute, ZeroPadding2D, UpSampling2D, Cropping2D\n",
    "from keras.layers.core import Activation\n",
    "from keras.models import Model\n",
    "from keras.engine.topology import Layer\n",
    "from keras.utils.layer_utils import layer_from_config\n",
    "from keras.utils import np_utils, generic_utils\n",
    "from keras import backend as K\n",
    "from keras.applications.vgg16 import VGG16, preprocess_input\n",
    "\n",
    "import cv2\n",
    "import numpy as np\n",
    "\n",
    "class Softmax2D(Layer):\n",
    "    def __init__(self, **kwargs):\n",
    "        super(Softmax2D, self).__init__(**kwargs)\n",
    "\n",
    "    def build(self, input_shape):\n",
    "        pass\n",
    "\n",
    "    def call(self, x, mask=None):\n",
    "        e = K.exp(x - K.max(x, axis=-1, keepdims=True))\n",
    "        s = K.sum(e, axis=-1, keepdims=True)\n",
    "        return K.clip(e/s, 1e-7, 1)\n",
    "\n",
    "    def get_output_shape_for(self, input_shape):\n",
    "        return (input_shape)\n",
    "    \n",
    "    "
   ]
  },
  {
   "cell_type": "code",
   "execution_count": 77,
   "metadata": {
    "collapsed": false
   },
   "outputs": [],
   "source": [
    "vgg16 = VGG16(include_top=False,\n",
    "              weights='imagenet',\n",
    "              input_tensor=None,\n",
    "              input_shape=(3,224,224))"
   ]
  },
  {
   "cell_type": "code",
   "execution_count": 78,
   "metadata": {
    "collapsed": true
   },
   "outputs": [],
   "source": [
    "ip = Input(shape=(3,img_size, img_size))\n",
    "h = vgg16.layers[1](ip)\n",
    "h = vgg16.layers[2](h)\n",
    "h = vgg16.layers[3](h)\n",
    "h = vgg16.layers[4](h)\n",
    "h = vgg16.layers[5](h)\n",
    "h = vgg16.layers[6](h)\n",
    "h = vgg16.layers[7](h)\n",
    "h = vgg16.layers[8](h)\n",
    "h = vgg16.layers[9](h)\n",
    "h = vgg16.layers[10](h)"
   ]
  },
  {
   "cell_type": "code",
   "execution_count": 79,
   "metadata": {
    "collapsed": true
   },
   "outputs": [],
   "source": [
    "#split layer\n",
    "p3 = h\n",
    "p3 = Convolution2D(nb_class, 1, 1, activation='relu', border_mode='valid')(p3)\n",
    "\n",
    "#(21*28*28)\n",
    "h = vgg16.layers[11](h)\n",
    "h = vgg16.layers[12](h)\n",
    "h = vgg16.layers[13](h)\n",
    "h = vgg16.layers[14](h)"
   ]
  },
  {
   "cell_type": "code",
   "execution_count": 80,
   "metadata": {
    "collapsed": true
   },
   "outputs": [],
   "source": [
    "#split layer\n",
    "p4 = h\n",
    "p4 = Convolution2D(nb_class, 1, 1, activation='relu')(p4)\n",
    "\"\"\"\n",
    "p4 = Deconvolution2D(self.FCN_CLASSES, 4, 4,\n",
    "        output_shape=(self.batchsize, self.img_height//8, self.img_width//8, self.FCN_CLASSES),\n",
    "        subsample=(2, 2),\n",
    "        border_mode='valid')(p4)\n",
    "\"\"\"\n",
    "p4 = UpSampling2D((2,2))(p4)\n",
    "p4 = Convolution2D(nb_class, 3, 3, activation='relu', border_mode='same')(p4)\n",
    "\n",
    "h = vgg16.layers[15](h)\n",
    "h = vgg16.layers[16](h)\n",
    "h = vgg16.layers[17](h)\n",
    "h = vgg16.layers[18](h)"
   ]
  },
  {
   "cell_type": "code",
   "execution_count": 81,
   "metadata": {
    "collapsed": false
   },
   "outputs": [],
   "source": [
    "p5 = h\n",
    "p5 = Convolution2D(nb_class, 1, 1, activation='relu')(p5)\n",
    "\"\"\"\n",
    "p5 = Deconvolution2D(self.FCN_CLASSES, 8, 8,\n",
    "        output_shape=(self.batchsize, self.img_height//8, self.img_width//8, self.FCN_CLASSES),\n",
    "        subsample=(4, 4),\n",
    "        border_mode='valid')(p5)\n",
    "\"\"\"\n",
    "p5 = UpSampling2D((4, 4))(p5)\n",
    "p5 = Convolution2D(nb_class, 3, 3, activation='relu', border_mode='same')(p5)"
   ]
  },
  {
   "cell_type": "code",
   "execution_count": null,
   "metadata": {
    "collapsed": true
   },
   "outputs": [],
   "source": [
    "# merge scores\n",
    "h = merge([p3, p4, p5], mode=\"sum\")\n",
    "\n",
    "\"\"\"\n",
    "h = Deconvolution2D(self.FCN_CLASSES, 16, 16,\n",
    "        output_shape=(self.batchsize, 224, 224, self.FCN_CLASSES),\n",
    "        subsample=(8, 8),\n",
    "        border_mode='valid')(h)\n",
    "\"\"\"\n",
    "h = UpSampling2D((8, 8))(h)\n",
    "h = Convolution2D(nb_class, 3, 3, activation='relu', border_mode='same')(h)"
   ]
  },
  {
   "cell_type": "code",
   "execution_count": null,
   "metadata": {
    "collapsed": true
   },
   "outputs": [],
   "source": [
    "h = Reshape((nb_class,img_size*img_size))(h)\n",
    "h = Permute((2,1))(h)"
   ]
  },
  {
   "cell_type": "code",
   "execution_count": 89,
   "metadata": {
    "collapsed": false
   },
   "outputs": [],
   "source": [
    "out = Activation(\"softmax\")(h)"
   ]
  },
  {
   "cell_type": "code",
   "execution_count": 90,
   "metadata": {
    "collapsed": false
   },
   "outputs": [
    {
     "name": "stdout",
     "output_type": "stream",
     "text": [
      "____________________________________________________________________________________________________\n",
      "Layer (type)                     Output Shape          Param #     Connected to                     \n",
      "====================================================================================================\n",
      "input_16 (InputLayer)            (None, 3, 224, 224)   0                                            \n",
      "____________________________________________________________________________________________________\n",
      "block1_conv1 (Convolution2D)     (None, 64, 224, 224)  1792        input_16[0][0]                   \n",
      "____________________________________________________________________________________________________\n",
      "block1_conv2 (Convolution2D)     (None, 64, 224, 224)  36928       block1_conv1[1][0]               \n",
      "____________________________________________________________________________________________________\n",
      "block1_pool (MaxPooling2D)       (None, 64, 112, 112)  0           block1_conv2[1][0]               \n",
      "____________________________________________________________________________________________________\n",
      "block2_conv1 (Convolution2D)     (None, 128, 112, 112) 73856       block1_pool[1][0]                \n",
      "____________________________________________________________________________________________________\n",
      "block2_conv2 (Convolution2D)     (None, 128, 112, 112) 147584      block2_conv1[1][0]               \n",
      "____________________________________________________________________________________________________\n",
      "block2_pool (MaxPooling2D)       (None, 128, 56, 56)   0           block2_conv2[1][0]               \n",
      "____________________________________________________________________________________________________\n",
      "block3_conv1 (Convolution2D)     (None, 256, 56, 56)   295168      block2_pool[1][0]                \n",
      "____________________________________________________________________________________________________\n",
      "block3_conv2 (Convolution2D)     (None, 256, 56, 56)   590080      block3_conv1[1][0]               \n",
      "____________________________________________________________________________________________________\n",
      "block3_conv3 (Convolution2D)     (None, 256, 56, 56)   590080      block3_conv2[1][0]               \n",
      "____________________________________________________________________________________________________\n",
      "block3_pool (MaxPooling2D)       (None, 256, 28, 28)   0           block3_conv3[1][0]               \n",
      "____________________________________________________________________________________________________\n",
      "block4_conv1 (Convolution2D)     (None, 512, 28, 28)   1180160     block3_pool[1][0]                \n",
      "____________________________________________________________________________________________________\n",
      "block4_conv2 (Convolution2D)     (None, 512, 28, 28)   2359808     block4_conv1[1][0]               \n",
      "____________________________________________________________________________________________________\n",
      "block4_conv3 (Convolution2D)     (None, 512, 28, 28)   2359808     block4_conv2[1][0]               \n",
      "____________________________________________________________________________________________________\n",
      "block4_pool (MaxPooling2D)       (None, 512, 14, 14)   0           block4_conv3[1][0]               \n",
      "____________________________________________________________________________________________________\n",
      "block5_conv1 (Convolution2D)     (None, 512, 14, 14)   2359808     block4_pool[1][0]                \n",
      "____________________________________________________________________________________________________\n",
      "block5_conv2 (Convolution2D)     (None, 512, 14, 14)   2359808     block5_conv1[1][0]               \n",
      "____________________________________________________________________________________________________\n",
      "block5_conv3 (Convolution2D)     (None, 512, 14, 14)   2359808     block5_conv2[1][0]               \n",
      "____________________________________________________________________________________________________\n",
      "block5_pool (MaxPooling2D)       (None, 512, 7, 7)     0           block5_conv3[1][0]               \n",
      "____________________________________________________________________________________________________\n",
      "convolution2d_31 (Convolution2D) (None, 21, 14, 14)    10773       block4_pool[1][0]                \n",
      "____________________________________________________________________________________________________\n",
      "convolution2d_33 (Convolution2D) (None, 21, 7, 7)      10773       block5_pool[1][0]                \n",
      "____________________________________________________________________________________________________\n",
      "upsampling2d_14 (UpSampling2D)   (None, 21, 28, 28)    0           convolution2d_31[0][0]           \n",
      "____________________________________________________________________________________________________\n",
      "upsampling2d_15 (UpSampling2D)   (None, 21, 28, 28)    0           convolution2d_33[0][0]           \n",
      "____________________________________________________________________________________________________\n",
      "convolution2d_30 (Convolution2D) (None, 21, 28, 28)    5397        block3_pool[1][0]                \n",
      "____________________________________________________________________________________________________\n",
      "convolution2d_32 (Convolution2D) (None, 21, 28, 28)    3990        upsampling2d_14[0][0]            \n",
      "____________________________________________________________________________________________________\n",
      "convolution2d_34 (Convolution2D) (None, 21, 28, 28)    3990        upsampling2d_15[0][0]            \n",
      "____________________________________________________________________________________________________\n",
      "merge_5 (Merge)                  (None, 21, 28, 28)    0           convolution2d_30[0][0]           \n",
      "                                                                   convolution2d_32[0][0]           \n",
      "                                                                   convolution2d_34[0][0]           \n",
      "____________________________________________________________________________________________________\n",
      "upsampling2d_16 (UpSampling2D)   (None, 21, 224, 224)  0           merge_5[0][0]                    \n",
      "____________________________________________________________________________________________________\n",
      "convolution2d_35 (Convolution2D) (None, 21, 224, 224)  3990        upsampling2d_16[0][0]            \n",
      "____________________________________________________________________________________________________\n",
      "reshape_5 (Reshape)              (None, 21, 50176)     0           convolution2d_35[0][0]           \n",
      "____________________________________________________________________________________________________\n",
      "permute_1 (Permute)              (None, 50176, 21)     0           reshape_5[0][0]                  \n",
      "____________________________________________________________________________________________________\n",
      "activation_1 (Activation)        (None, 50176, 21)     0           permute_1[0][0]                  \n",
      "====================================================================================================\n",
      "Total params: 14,753,601\n",
      "Trainable params: 14,753,601\n",
      "Non-trainable params: 0\n",
      "____________________________________________________________________________________________________\n"
     ]
    }
   ],
   "source": [
    "model_temp = Model(ip, out)\n",
    "model_temp.summary()"
   ]
  },
  {
   "cell_type": "code",
   "execution_count": 94,
   "metadata": {
    "collapsed": true
   },
   "outputs": [],
   "source": [
    "FCN = FullyConvolutionalNetwork(img_height=img_size, img_width=img_size, FCN_CLASSES=nb_class)"
   ]
  },
  {
   "cell_type": "code",
   "execution_count": 97,
   "metadata": {
    "collapsed": false
   },
   "outputs": [
    {
     "name": "stdout",
     "output_type": "stream",
     "text": [
      "____________________________________________________________________________________________________\n",
      "Layer (type)                     Output Shape          Param #     Connected to                     \n",
      "====================================================================================================\n",
      "input_18 (InputLayer)            (None, 3, 224, 224)   0                                            \n",
      "____________________________________________________________________________________________________\n",
      "block1_conv1 (Convolution2D)     (None, 64, 224, 224)  1792        input_18[0][0]                   \n",
      "____________________________________________________________________________________________________\n",
      "block1_conv2 (Convolution2D)     (None, 64, 224, 224)  36928       block1_conv1[1][0]               \n",
      "____________________________________________________________________________________________________\n",
      "block1_pool (MaxPooling2D)       (None, 64, 112, 112)  0           block1_conv2[1][0]               \n",
      "____________________________________________________________________________________________________\n",
      "block2_conv1 (Convolution2D)     (None, 128, 112, 112) 73856       block1_pool[1][0]                \n",
      "____________________________________________________________________________________________________\n",
      "block2_conv2 (Convolution2D)     (None, 128, 112, 112) 147584      block2_conv1[1][0]               \n",
      "____________________________________________________________________________________________________\n",
      "block2_pool (MaxPooling2D)       (None, 128, 56, 56)   0           block2_conv2[1][0]               \n",
      "____________________________________________________________________________________________________\n",
      "block3_conv1 (Convolution2D)     (None, 256, 56, 56)   295168      block2_pool[1][0]                \n",
      "____________________________________________________________________________________________________\n",
      "block3_conv2 (Convolution2D)     (None, 256, 56, 56)   590080      block3_conv1[1][0]               \n",
      "____________________________________________________________________________________________________\n",
      "block3_conv3 (Convolution2D)     (None, 256, 56, 56)   590080      block3_conv2[1][0]               \n",
      "____________________________________________________________________________________________________\n",
      "block3_pool (MaxPooling2D)       (None, 256, 28, 28)   0           block3_conv3[1][0]               \n",
      "____________________________________________________________________________________________________\n",
      "block4_conv1 (Convolution2D)     (None, 512, 28, 28)   1180160     block3_pool[1][0]                \n",
      "____________________________________________________________________________________________________\n",
      "block4_conv2 (Convolution2D)     (None, 512, 28, 28)   2359808     block4_conv1[1][0]               \n",
      "____________________________________________________________________________________________________\n",
      "block4_conv3 (Convolution2D)     (None, 512, 28, 28)   2359808     block4_conv2[1][0]               \n",
      "____________________________________________________________________________________________________\n",
      "block4_pool (MaxPooling2D)       (None, 512, 14, 14)   0           block4_conv3[1][0]               \n",
      "____________________________________________________________________________________________________\n",
      "block5_conv1 (Convolution2D)     (None, 512, 14, 14)   2359808     block4_pool[1][0]                \n",
      "____________________________________________________________________________________________________\n",
      "block5_conv2 (Convolution2D)     (None, 512, 14, 14)   2359808     block5_conv1[1][0]               \n",
      "____________________________________________________________________________________________________\n",
      "block5_conv3 (Convolution2D)     (None, 512, 14, 14)   2359808     block5_conv2[1][0]               \n",
      "____________________________________________________________________________________________________\n",
      "block5_pool (MaxPooling2D)       (None, 512, 7, 7)     0           block5_conv3[1][0]               \n",
      "____________________________________________________________________________________________________\n",
      "convolution2d_37 (Convolution2D) (None, 21, 14, 14)    10773       block4_pool[1][0]                \n",
      "____________________________________________________________________________________________________\n",
      "convolution2d_39 (Convolution2D) (None, 21, 7, 7)      10773       block5_pool[1][0]                \n",
      "____________________________________________________________________________________________________\n",
      "upsampling2d_17 (UpSampling2D)   (None, 21, 28, 28)    0           convolution2d_37[0][0]           \n",
      "____________________________________________________________________________________________________\n",
      "upsampling2d_18 (UpSampling2D)   (None, 21, 28, 28)    0           convolution2d_39[0][0]           \n",
      "____________________________________________________________________________________________________\n",
      "convolution2d_36 (Convolution2D) (None, 21, 28, 28)    5397        block3_pool[1][0]                \n",
      "____________________________________________________________________________________________________\n",
      "convolution2d_38 (Convolution2D) (None, 21, 28, 28)    3990        upsampling2d_17[0][0]            \n",
      "____________________________________________________________________________________________________\n",
      "convolution2d_40 (Convolution2D) (None, 21, 28, 28)    3990        upsampling2d_18[0][0]            \n",
      "____________________________________________________________________________________________________\n",
      "merge_6 (Merge)                  (None, 21, 28, 28)    0           convolution2d_36[0][0]           \n",
      "                                                                   convolution2d_38[0][0]           \n",
      "                                                                   convolution2d_40[0][0]           \n",
      "____________________________________________________________________________________________________\n",
      "upsampling2d_19 (UpSampling2D)   (None, 21, 224, 224)  0           merge_6[0][0]                    \n",
      "____________________________________________________________________________________________________\n",
      "convolution2d_41 (Convolution2D) (None, 21, 224, 224)  3990        upsampling2d_19[0][0]            \n",
      "====================================================================================================\n",
      "Total params: 14,753,601\n",
      "Trainable params: 14,753,601\n",
      "Non-trainable params: 0\n",
      "____________________________________________________________________________________________________\n"
     ]
    }
   ],
   "source": [
    "adam = Adam(lr=lr)\n",
    "train_model = FCN.create_model(train_flag=True)"
   ]
  },
  {
   "cell_type": "code",
   "execution_count": 98,
   "metadata": {
    "collapsed": false
   },
   "outputs": [
    {
     "name": "stdout",
     "output_type": "stream",
     "text": [
      "Num data: 5\n"
     ]
    }
   ],
   "source": [
    "train_model.compile(loss=\"categorical_crossentropy\", optimizer='adam')\n",
    "if len(weight):\n",
    "    model.load_weights(weight, model)\n",
    "print(\"Num data: {}\".format(nb_data))"
   ]
  },
  {
   "cell_type": "code",
   "execution_count": null,
   "metadata": {
    "collapsed": true
   },
   "outputs": [],
   "source": []
  },
  {
   "cell_type": "code",
   "execution_count": null,
   "metadata": {
    "collapsed": true
   },
   "outputs": [],
   "source": []
  }
 ],
 "metadata": {
  "kernelspec": {
   "display_name": "Python 2",
   "language": "python",
   "name": "python2"
  },
  "language_info": {
   "codemirror_mode": {
    "name": "ipython",
    "version": 2
   },
   "file_extension": ".py",
   "mimetype": "text/x-python",
   "name": "python",
   "nbconvert_exporter": "python",
   "pygments_lexer": "ipython2",
   "version": "2.7.13"
  }
 },
 "nbformat": 4,
 "nbformat_minor": 0
}
